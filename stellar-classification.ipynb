{
 "cells": [
  {
   "cell_type": "code",
   "execution_count": 1,
   "id": "393a64ac",
   "metadata": {
    "_cell_guid": "b1076dfc-b9ad-4769-8c92-a6c4dae69d19",
    "_uuid": "8f2839f25d086af736a60e9eeb907d3b93b6e0e5",
    "execution": {
     "iopub.execute_input": "2022-04-29T03:15:35.607805Z",
     "iopub.status.busy": "2022-04-29T03:15:35.607304Z",
     "iopub.status.idle": "2022-04-29T03:15:35.626052Z",
     "shell.execute_reply": "2022-04-29T03:15:35.625448Z"
    },
    "papermill": {
     "duration": 0.053855,
     "end_time": "2022-04-29T03:15:35.628609",
     "exception": false,
     "start_time": "2022-04-29T03:15:35.574754",
     "status": "completed"
    },
    "tags": []
   },
   "outputs": [
    {
     "name": "stdout",
     "output_type": "stream",
     "text": [
      "/kaggle/input/stellar-classification-dataset-sdss17/star_classification.csv\n"
     ]
    }
   ],
   "source": [
    "# This Python 3 environment comes with many helpful analytics libraries installed\n",
    "# It is defined by the kaggle/python Docker image: https://github.com/kaggle/docker-python\n",
    "# For example, here's several helpful packages to load\n",
    "\n",
    "import numpy as np # linear algebra\n",
    "import pandas as pd # data processing, CSV file I/O (e.g. pd.read_csv)\n",
    "\n",
    "# Input data files are available in the read-only \"../input/\" directory\n",
    "# For example, running this (by clicking run or pressing Shift+Enter) will list all files under the input directory\n",
    "\n",
    "import os\n",
    "for dirname, _, filenames in os.walk('/kaggle/input'):\n",
    "    for filename in filenames:\n",
    "        print(os.path.join(dirname, filename))\n",
    "\n",
    "# You can write up to 20GB to the current directory (/kaggle/working/) that gets preserved as output when you create a version using \"Save & Run All\" \n",
    "# You can also write temporary files to /kaggle/temp/, but they won't be saved outside of the current session"
   ]
  },
  {
   "cell_type": "markdown",
   "id": "706c4e0c",
   "metadata": {
    "papermill": {
     "duration": 0.0298,
     "end_time": "2022-04-29T03:15:35.689697",
     "exception": false,
     "start_time": "2022-04-29T03:15:35.659897",
     "status": "completed"
    },
    "tags": []
   },
   "source": [
    "# 1. Importing Data and Required libraries"
   ]
  },
  {
   "cell_type": "code",
   "execution_count": 2,
   "id": "92cb1071",
   "metadata": {
    "execution": {
     "iopub.execute_input": "2022-04-29T03:15:35.751238Z",
     "iopub.status.busy": "2022-04-29T03:15:35.750717Z",
     "iopub.status.idle": "2022-04-29T03:15:38.572421Z",
     "shell.execute_reply": "2022-04-29T03:15:38.571308Z"
    },
    "papermill": {
     "duration": 2.855812,
     "end_time": "2022-04-29T03:15:38.574883",
     "exception": false,
     "start_time": "2022-04-29T03:15:35.719071",
     "status": "completed"
    },
    "tags": []
   },
   "outputs": [],
   "source": [
    "import matplotlib.pyplot as plt\n",
    "import seaborn as sns\n",
    "from scipy.sparse import csr_matrix\n",
    "from sklearn.neighbors import NearestNeighbors\n",
    "import plotly as py\n",
    "import plotly.express as px\n",
    "import plotly.graph_objs as go\n",
    "from plotly.subplots import make_subplots\n",
    "from plotly.offline import init_notebook_mode, iplot, plot\n",
    "import math\n",
    "from sklearn.metrics import mean_absolute_error\n",
    "from sklearn.metrics import mean_squared_error\n",
    "from sklearn.metrics import r2_score\n",
    "from math import sqrt\n",
    "from sklearn.metrics import confusion_matrix\n",
    "import warnings \n",
    "warnings.filterwarnings('ignore')\n",
    "%matplotlib inline"
   ]
  },
  {
   "cell_type": "code",
   "execution_count": 3,
   "id": "b9324638",
   "metadata": {
    "execution": {
     "iopub.execute_input": "2022-04-29T03:15:38.635495Z",
     "iopub.status.busy": "2022-04-29T03:15:38.634817Z",
     "iopub.status.idle": "2022-04-29T03:15:39.176631Z",
     "shell.execute_reply": "2022-04-29T03:15:39.175432Z"
    },
    "papermill": {
     "duration": 0.575014,
     "end_time": "2022-04-29T03:15:39.179119",
     "exception": false,
     "start_time": "2022-04-29T03:15:38.604105",
     "status": "completed"
    },
    "tags": []
   },
   "outputs": [],
   "source": [
    "df= pd.read_csv(\"../input/stellar-classification-dataset-sdss17/star_classification.csv\")"
   ]
  },
  {
   "cell_type": "code",
   "execution_count": 4,
   "id": "d5e5f8ba",
   "metadata": {
    "execution": {
     "iopub.execute_input": "2022-04-29T03:15:39.239750Z",
     "iopub.status.busy": "2022-04-29T03:15:39.238794Z",
     "iopub.status.idle": "2022-04-29T03:15:39.267872Z",
     "shell.execute_reply": "2022-04-29T03:15:39.266993Z"
    },
    "papermill": {
     "duration": 0.062054,
     "end_time": "2022-04-29T03:15:39.270495",
     "exception": false,
     "start_time": "2022-04-29T03:15:39.208441",
     "status": "completed"
    },
    "tags": []
   },
   "outputs": [
    {
     "data": {
      "text/html": [
       "<div>\n",
       "<style scoped>\n",
       "    .dataframe tbody tr th:only-of-type {\n",
       "        vertical-align: middle;\n",
       "    }\n",
       "\n",
       "    .dataframe tbody tr th {\n",
       "        vertical-align: top;\n",
       "    }\n",
       "\n",
       "    .dataframe thead th {\n",
       "        text-align: right;\n",
       "    }\n",
       "</style>\n",
       "<table border=\"1\" class=\"dataframe\">\n",
       "  <thead>\n",
       "    <tr style=\"text-align: right;\">\n",
       "      <th></th>\n",
       "      <th>obj_ID</th>\n",
       "      <th>alpha</th>\n",
       "      <th>delta</th>\n",
       "      <th>u</th>\n",
       "      <th>g</th>\n",
       "      <th>r</th>\n",
       "      <th>i</th>\n",
       "      <th>z</th>\n",
       "      <th>run_ID</th>\n",
       "      <th>rerun_ID</th>\n",
       "      <th>cam_col</th>\n",
       "      <th>field_ID</th>\n",
       "      <th>spec_obj_ID</th>\n",
       "      <th>class</th>\n",
       "      <th>redshift</th>\n",
       "      <th>plate</th>\n",
       "      <th>MJD</th>\n",
       "      <th>fiber_ID</th>\n",
       "    </tr>\n",
       "  </thead>\n",
       "  <tbody>\n",
       "    <tr>\n",
       "      <th>0</th>\n",
       "      <td>1.237661e+18</td>\n",
       "      <td>135.689107</td>\n",
       "      <td>32.494632</td>\n",
       "      <td>23.87882</td>\n",
       "      <td>22.27530</td>\n",
       "      <td>20.39501</td>\n",
       "      <td>19.16573</td>\n",
       "      <td>18.79371</td>\n",
       "      <td>3606</td>\n",
       "      <td>301</td>\n",
       "      <td>2</td>\n",
       "      <td>79</td>\n",
       "      <td>6.543777e+18</td>\n",
       "      <td>GALAXY</td>\n",
       "      <td>0.634794</td>\n",
       "      <td>5812</td>\n",
       "      <td>56354</td>\n",
       "      <td>171</td>\n",
       "    </tr>\n",
       "    <tr>\n",
       "      <th>1</th>\n",
       "      <td>1.237665e+18</td>\n",
       "      <td>144.826101</td>\n",
       "      <td>31.274185</td>\n",
       "      <td>24.77759</td>\n",
       "      <td>22.83188</td>\n",
       "      <td>22.58444</td>\n",
       "      <td>21.16812</td>\n",
       "      <td>21.61427</td>\n",
       "      <td>4518</td>\n",
       "      <td>301</td>\n",
       "      <td>5</td>\n",
       "      <td>119</td>\n",
       "      <td>1.176014e+19</td>\n",
       "      <td>GALAXY</td>\n",
       "      <td>0.779136</td>\n",
       "      <td>10445</td>\n",
       "      <td>58158</td>\n",
       "      <td>427</td>\n",
       "    </tr>\n",
       "    <tr>\n",
       "      <th>2</th>\n",
       "      <td>1.237661e+18</td>\n",
       "      <td>142.188790</td>\n",
       "      <td>35.582444</td>\n",
       "      <td>25.26307</td>\n",
       "      <td>22.66389</td>\n",
       "      <td>20.60976</td>\n",
       "      <td>19.34857</td>\n",
       "      <td>18.94827</td>\n",
       "      <td>3606</td>\n",
       "      <td>301</td>\n",
       "      <td>2</td>\n",
       "      <td>120</td>\n",
       "      <td>5.152200e+18</td>\n",
       "      <td>GALAXY</td>\n",
       "      <td>0.644195</td>\n",
       "      <td>4576</td>\n",
       "      <td>55592</td>\n",
       "      <td>299</td>\n",
       "    </tr>\n",
       "    <tr>\n",
       "      <th>3</th>\n",
       "      <td>1.237663e+18</td>\n",
       "      <td>338.741038</td>\n",
       "      <td>-0.402828</td>\n",
       "      <td>22.13682</td>\n",
       "      <td>23.77656</td>\n",
       "      <td>21.61162</td>\n",
       "      <td>20.50454</td>\n",
       "      <td>19.25010</td>\n",
       "      <td>4192</td>\n",
       "      <td>301</td>\n",
       "      <td>3</td>\n",
       "      <td>214</td>\n",
       "      <td>1.030107e+19</td>\n",
       "      <td>GALAXY</td>\n",
       "      <td>0.932346</td>\n",
       "      <td>9149</td>\n",
       "      <td>58039</td>\n",
       "      <td>775</td>\n",
       "    </tr>\n",
       "  </tbody>\n",
       "</table>\n",
       "</div>"
      ],
      "text/plain": [
       "         obj_ID       alpha      delta         u         g         r  \\\n",
       "0  1.237661e+18  135.689107  32.494632  23.87882  22.27530  20.39501   \n",
       "1  1.237665e+18  144.826101  31.274185  24.77759  22.83188  22.58444   \n",
       "2  1.237661e+18  142.188790  35.582444  25.26307  22.66389  20.60976   \n",
       "3  1.237663e+18  338.741038  -0.402828  22.13682  23.77656  21.61162   \n",
       "\n",
       "          i         z  run_ID  rerun_ID  cam_col  field_ID   spec_obj_ID  \\\n",
       "0  19.16573  18.79371    3606       301        2        79  6.543777e+18   \n",
       "1  21.16812  21.61427    4518       301        5       119  1.176014e+19   \n",
       "2  19.34857  18.94827    3606       301        2       120  5.152200e+18   \n",
       "3  20.50454  19.25010    4192       301        3       214  1.030107e+19   \n",
       "\n",
       "    class  redshift  plate    MJD  fiber_ID  \n",
       "0  GALAXY  0.634794   5812  56354       171  \n",
       "1  GALAXY  0.779136  10445  58158       427  \n",
       "2  GALAXY  0.644195   4576  55592       299  \n",
       "3  GALAXY  0.932346   9149  58039       775  "
      ]
     },
     "execution_count": 4,
     "metadata": {},
     "output_type": "execute_result"
    }
   ],
   "source": [
    "df.head(4)"
   ]
  },
  {
   "cell_type": "markdown",
   "id": "4a1b3a70",
   "metadata": {
    "papermill": {
     "duration": 0.029741,
     "end_time": "2022-04-29T03:15:39.330832",
     "exception": false,
     "start_time": "2022-04-29T03:15:39.301091",
     "status": "completed"
    },
    "tags": []
   },
   "source": [
    "# 2. Data Cleaning and Understanding"
   ]
  },
  {
   "cell_type": "code",
   "execution_count": 5,
   "id": "212106e9",
   "metadata": {
    "execution": {
     "iopub.execute_input": "2022-04-29T03:15:39.394877Z",
     "iopub.status.busy": "2022-04-29T03:15:39.394185Z",
     "iopub.status.idle": "2022-04-29T03:15:39.416118Z",
     "shell.execute_reply": "2022-04-29T03:15:39.415274Z"
    },
    "papermill": {
     "duration": 0.055145,
     "end_time": "2022-04-29T03:15:39.418241",
     "exception": false,
     "start_time": "2022-04-29T03:15:39.363096",
     "status": "completed"
    },
    "tags": []
   },
   "outputs": [
    {
     "data": {
      "text/plain": [
       "obj_ID         0\n",
       "alpha          0\n",
       "delta          0\n",
       "u              0\n",
       "g              0\n",
       "r              0\n",
       "i              0\n",
       "z              0\n",
       "run_ID         0\n",
       "rerun_ID       0\n",
       "cam_col        0\n",
       "field_ID       0\n",
       "spec_obj_ID    0\n",
       "class          0\n",
       "redshift       0\n",
       "plate          0\n",
       "MJD            0\n",
       "fiber_ID       0\n",
       "dtype: int64"
      ]
     },
     "execution_count": 5,
     "metadata": {},
     "output_type": "execute_result"
    }
   ],
   "source": [
    "df.isnull().sum()"
   ]
  },
  {
   "cell_type": "code",
   "execution_count": 6,
   "id": "1970aab4",
   "metadata": {
    "execution": {
     "iopub.execute_input": "2022-04-29T03:15:39.480521Z",
     "iopub.status.busy": "2022-04-29T03:15:39.480206Z",
     "iopub.status.idle": "2022-04-29T03:15:39.520557Z",
     "shell.execute_reply": "2022-04-29T03:15:39.519682Z"
    },
    "papermill": {
     "duration": 0.074742,
     "end_time": "2022-04-29T03:15:39.523249",
     "exception": false,
     "start_time": "2022-04-29T03:15:39.448507",
     "status": "completed"
    },
    "tags": []
   },
   "outputs": [
    {
     "name": "stdout",
     "output_type": "stream",
     "text": [
      "<class 'pandas.core.frame.DataFrame'>\n",
      "RangeIndex: 100000 entries, 0 to 99999\n",
      "Data columns (total 18 columns):\n",
      " #   Column       Non-Null Count   Dtype  \n",
      "---  ------       --------------   -----  \n",
      " 0   obj_ID       100000 non-null  float64\n",
      " 1   alpha        100000 non-null  float64\n",
      " 2   delta        100000 non-null  float64\n",
      " 3   u            100000 non-null  float64\n",
      " 4   g            100000 non-null  float64\n",
      " 5   r            100000 non-null  float64\n",
      " 6   i            100000 non-null  float64\n",
      " 7   z            100000 non-null  float64\n",
      " 8   run_ID       100000 non-null  int64  \n",
      " 9   rerun_ID     100000 non-null  int64  \n",
      " 10  cam_col      100000 non-null  int64  \n",
      " 11  field_ID     100000 non-null  int64  \n",
      " 12  spec_obj_ID  100000 non-null  float64\n",
      " 13  class        100000 non-null  object \n",
      " 14  redshift     100000 non-null  float64\n",
      " 15  plate        100000 non-null  int64  \n",
      " 16  MJD          100000 non-null  int64  \n",
      " 17  fiber_ID     100000 non-null  int64  \n",
      "dtypes: float64(10), int64(7), object(1)\n",
      "memory usage: 13.7+ MB\n"
     ]
    }
   ],
   "source": [
    "df.info()"
   ]
  },
  {
   "cell_type": "code",
   "execution_count": 7,
   "id": "137e30b2",
   "metadata": {
    "execution": {
     "iopub.execute_input": "2022-04-29T03:15:39.586646Z",
     "iopub.status.busy": "2022-04-29T03:15:39.586323Z",
     "iopub.status.idle": "2022-04-29T03:15:39.624734Z",
     "shell.execute_reply": "2022-04-29T03:15:39.623869Z"
    },
    "papermill": {
     "duration": 0.07279,
     "end_time": "2022-04-29T03:15:39.627234",
     "exception": false,
     "start_time": "2022-04-29T03:15:39.554444",
     "status": "completed"
    },
    "tags": []
   },
   "outputs": [],
   "source": [
    "from sklearn.preprocessing import LabelEncoder\n",
    "\n",
    "le_cl = LabelEncoder()\n",
    "df['class'] = le_cl.fit_transform(df['class'])\n",
    "#df.head(5)"
   ]
  },
  {
   "cell_type": "code",
   "execution_count": 8,
   "id": "28a90c13",
   "metadata": {
    "execution": {
     "iopub.execute_input": "2022-04-29T03:15:39.691096Z",
     "iopub.status.busy": "2022-04-29T03:15:39.690795Z",
     "iopub.status.idle": "2022-04-29T03:15:39.859626Z",
     "shell.execute_reply": "2022-04-29T03:15:39.858302Z"
    },
    "papermill": {
     "duration": 0.204554,
     "end_time": "2022-04-29T03:15:39.863415",
     "exception": false,
     "start_time": "2022-04-29T03:15:39.658861",
     "status": "completed"
    },
    "tags": []
   },
   "outputs": [
    {
     "data": {
      "image/png": "[encoded data removed]",
      "text/plain": [
       "<Figure size 432x288 with 1 Axes>"
      ]
     },
     "metadata": {
      "needs_background": "light"
     },
     "output_type": "display_data"
    }
   ],
   "source": [
    "sns.countplot(df[\"class\"])\n",
    "plt.title(\"Class \",fontsize=10)\n",
    "plt.show()"
   ]
  },
  {
   "cell_type": "code",
   "execution_count": 9,
   "id": "67bb0b13",
   "metadata": {
    "execution": {
     "iopub.execute_input": "2022-04-29T03:15:39.928851Z",
     "iopub.status.busy": "2022-04-29T03:15:39.928298Z",
     "iopub.status.idle": "2022-04-29T03:15:41.464282Z",
     "shell.execute_reply": "2022-04-29T03:15:41.463292Z"
    },
    "papermill": {
     "duration": 1.572982,
     "end_time": "2022-04-29T03:15:41.468288",
     "exception": false,
     "start_time": "2022-04-29T03:15:39.895306",
     "status": "completed"
    },
    "tags": []
   },
   "outputs": [
    {
     "data": {
      "image/png": "[encoded data removed]",
      "text/plain": [
       "<Figure size 864x576 with 2 Axes>"
      ]
     },
     "metadata": {
      "needs_background": "light"
     },
     "output_type": "display_data"
    }
   ],
   "source": [
    "corr1 = df.corr()\n",
    "plt.figure(figsize = (12,8))\n",
    "sns.heatmap(corr1,annot=True)\n",
    "plt.show()"
   ]
  },
  {
   "cell_type": "code",
   "execution_count": 10,
   "id": "a60b12ae",
   "metadata": {
    "execution": {
     "iopub.execute_input": "2022-04-29T03:15:41.545878Z",
     "iopub.status.busy": "2022-04-29T03:15:41.545013Z",
     "iopub.status.idle": "2022-04-29T03:15:41.654976Z",
     "shell.execute_reply": "2022-04-29T03:15:41.653980Z"
    },
    "papermill": {
     "duration": 0.15049,
     "end_time": "2022-04-29T03:15:41.657696",
     "exception": false,
     "start_time": "2022-04-29T03:15:41.507206",
     "status": "completed"
    },
    "tags": []
   },
   "outputs": [],
   "source": [
    "corr = df.corr()"
   ]
  },
  {
   "cell_type": "code",
   "execution_count": 11,
   "id": "d63894de",
   "metadata": {
    "execution": {
     "iopub.execute_input": "2022-04-29T03:15:41.733129Z",
     "iopub.status.busy": "2022-04-29T03:15:41.732483Z",
     "iopub.status.idle": "2022-04-29T03:15:41.740784Z",
     "shell.execute_reply": "2022-04-29T03:15:41.739843Z"
    },
    "papermill": {
     "duration": 0.048151,
     "end_time": "2022-04-29T03:15:41.743074",
     "exception": false,
     "start_time": "2022-04-29T03:15:41.694923",
     "status": "completed"
    },
    "tags": []
   },
   "outputs": [
    {
     "data": {
      "text/plain": [
       "r             -0.076766\n",
       "redshift      -0.054239\n",
       "fiber_ID      -0.041586\n",
       "run_ID        -0.036014\n",
       "obj_ID        -0.036012\n",
       "field_ID      -0.034833\n",
       "u             -0.024645\n",
       "g             -0.020066\n",
       "alpha         -0.011756\n",
       "spec_obj_ID   -0.010060\n",
       "plate         -0.010060\n",
       "z             -0.001614\n",
       "MJD           -0.000405\n",
       "delta          0.014452\n",
       "i              0.015028\n",
       "cam_col        0.023138\n",
       "class          1.000000\n",
       "rerun_ID            NaN\n",
       "Name: class, dtype: float64"
      ]
     },
     "execution_count": 11,
     "metadata": {},
     "output_type": "execute_result"
    }
   ],
   "source": [
    "corr[\"class\"].sort_values()"
   ]
  },
  {
   "cell_type": "code",
   "execution_count": 12,
   "id": "b4b06c6a",
   "metadata": {
    "execution": {
     "iopub.execute_input": "2022-04-29T03:15:41.817390Z",
     "iopub.status.busy": "2022-04-29T03:15:41.817079Z",
     "iopub.status.idle": "2022-04-29T03:15:41.830126Z",
     "shell.execute_reply": "2022-04-29T03:15:41.829225Z"
    },
    "papermill": {
     "duration": 0.05331,
     "end_time": "2022-04-29T03:15:41.832579",
     "exception": false,
     "start_time": "2022-04-29T03:15:41.779269",
     "status": "completed"
    },
    "tags": []
   },
   "outputs": [],
   "source": [
    "df = df.drop(['obj_ID','alpha','delta','run_ID','rerun_ID','cam_col','field_ID','fiber_ID'], axis = 1)"
   ]
  },
  {
   "cell_type": "markdown",
   "id": "27d720cf",
   "metadata": {
    "papermill": {
     "duration": 0.038422,
     "end_time": "2022-04-29T03:15:41.907903",
     "exception": false,
     "start_time": "2022-04-29T03:15:41.869481",
     "status": "completed"
    },
    "tags": []
   },
   "source": [
    "# 3. Data Modelling"
   ]
  },
  {
   "cell_type": "code",
   "execution_count": 13,
   "id": "f292bf6f",
   "metadata": {
    "execution": {
     "iopub.execute_input": "2022-04-29T03:15:41.982008Z",
     "iopub.status.busy": "2022-04-29T03:15:41.981509Z",
     "iopub.status.idle": "2022-04-29T03:15:41.988947Z",
     "shell.execute_reply": "2022-04-29T03:15:41.988189Z"
    },
    "papermill": {
     "duration": 0.047268,
     "end_time": "2022-04-29T03:15:41.991301",
     "exception": false,
     "start_time": "2022-04-29T03:15:41.944033",
     "status": "completed"
    },
    "tags": []
   },
   "outputs": [],
   "source": [
    "X = df.drop(['class'], axis = 1)\n",
    "y = df.loc[:,'class'].values\n"
   ]
  },
  {
   "cell_type": "code",
   "execution_count": 14,
   "id": "65a34dc9",
   "metadata": {
    "execution": {
     "iopub.execute_input": "2022-04-29T03:15:42.068762Z",
     "iopub.status.busy": "2022-04-29T03:15:42.068243Z",
     "iopub.status.idle": "2022-04-29T03:15:42.085633Z",
     "shell.execute_reply": "2022-04-29T03:15:42.084823Z"
    },
    "papermill": {
     "duration": 0.057461,
     "end_time": "2022-04-29T03:15:42.087922",
     "exception": false,
     "start_time": "2022-04-29T03:15:42.030461",
     "status": "completed"
    },
    "tags": []
   },
   "outputs": [],
   "source": [
    "from sklearn.model_selection import train_test_split\n",
    "X_train, X_test, y_train, y_test = train_test_split(X, y, test_size = 0.33, random_state = 42)"
   ]
  },
  {
   "cell_type": "code",
   "execution_count": 15,
   "id": "19ff98e1",
   "metadata": {
    "execution": {
     "iopub.execute_input": "2022-04-29T03:15:42.163244Z",
     "iopub.status.busy": "2022-04-29T03:15:42.162764Z",
     "iopub.status.idle": "2022-04-29T03:15:42.206630Z",
     "shell.execute_reply": "2022-04-29T03:15:42.205472Z"
    },
    "papermill": {
     "duration": 0.085722,
     "end_time": "2022-04-29T03:15:42.210367",
     "exception": false,
     "start_time": "2022-04-29T03:15:42.124645",
     "status": "completed"
    },
    "tags": []
   },
   "outputs": [],
   "source": [
    "from sklearn import linear_model\n",
    "reg = linear_model.LinearRegression()\n",
    "reg.fit(X_train, y_train)\n",
    "y_pred0 = reg.predict(X_test)"
   ]
  },
  {
   "cell_type": "code",
   "execution_count": 16,
   "id": "997fa708",
   "metadata": {
    "execution": {
     "iopub.execute_input": "2022-04-29T03:15:42.364831Z",
     "iopub.status.busy": "2022-04-29T03:15:42.364502Z",
     "iopub.status.idle": "2022-04-29T03:15:43.288816Z",
     "shell.execute_reply": "2022-04-29T03:15:43.287753Z"
    },
    "papermill": {
     "duration": 0.966438,
     "end_time": "2022-04-29T03:15:43.292588",
     "exception": false,
     "start_time": "2022-04-29T03:15:42.326150",
     "status": "completed"
    },
    "tags": []
   },
   "outputs": [],
   "source": [
    "from sklearn.linear_model import LogisticRegression\n",
    "lg = LogisticRegression()\n",
    "lg.fit(X_train, y_train)\n",
    "y_pred1 = lg.predict(X_test)"
   ]
  },
  {
   "cell_type": "code",
   "execution_count": 17,
   "id": "91ead6b6",
   "metadata": {
    "execution": {
     "iopub.execute_input": "2022-04-29T03:15:43.422575Z",
     "iopub.status.busy": "2022-04-29T03:15:43.421525Z",
     "iopub.status.idle": "2022-04-29T03:16:08.099411Z",
     "shell.execute_reply": "2022-04-29T03:16:08.098565Z"
    },
    "papermill": {
     "duration": 24.741811,
     "end_time": "2022-04-29T03:16:08.102038",
     "exception": false,
     "start_time": "2022-04-29T03:15:43.360227",
     "status": "completed"
    },
    "tags": []
   },
   "outputs": [],
   "source": [
    "from sklearn.ensemble import RandomForestClassifier\n",
    "r_forest = RandomForestClassifier()\n",
    "r_forest.fit(X_train,y_train)\n",
    "y_pred2 = r_forest.predict(X_test)"
   ]
  },
  {
   "cell_type": "code",
   "execution_count": 18,
   "id": "7f3dd427",
   "metadata": {
    "execution": {
     "iopub.execute_input": "2022-04-29T03:16:08.177508Z",
     "iopub.status.busy": "2022-04-29T03:16:08.176939Z",
     "iopub.status.idle": "2022-04-29T03:16:09.319407Z",
     "shell.execute_reply": "2022-04-29T03:16:09.318450Z"
    },
    "papermill": {
     "duration": 1.183077,
     "end_time": "2022-04-29T03:16:09.321892",
     "exception": false,
     "start_time": "2022-04-29T03:16:08.138815",
     "status": "completed"
    },
    "tags": []
   },
   "outputs": [],
   "source": [
    "from sklearn import tree\n",
    "clf = tree.DecisionTreeClassifier()\n",
    "clf.fit(X_train,y_train)\n",
    "y_pred3 = clf.predict(X_test) "
   ]
  },
  {
   "cell_type": "code",
   "execution_count": 19,
   "id": "8e5e9b1c",
   "metadata": {
    "execution": {
     "iopub.execute_input": "2022-04-29T03:16:09.395706Z",
     "iopub.status.busy": "2022-04-29T03:16:09.395240Z",
     "iopub.status.idle": "2022-04-29T03:16:09.431233Z",
     "shell.execute_reply": "2022-04-29T03:16:09.430084Z"
    },
    "papermill": {
     "duration": 0.075733,
     "end_time": "2022-04-29T03:16:09.433728",
     "exception": false,
     "start_time": "2022-04-29T03:16:09.357995",
     "status": "completed"
    },
    "tags": []
   },
   "outputs": [],
   "source": [
    "from sklearn.naive_bayes import GaussianNB\n",
    "gnb = GaussianNB()\n",
    "gnb.fit(X_train,y_train)\n",
    "y_pred4 = gnb.predict(X_test) "
   ]
  },
  {
   "cell_type": "code",
   "execution_count": 20,
   "id": "dfc1a536",
   "metadata": {
    "execution": {
     "iopub.execute_input": "2022-04-29T03:16:09.508448Z",
     "iopub.status.busy": "2022-04-29T03:16:09.507874Z",
     "iopub.status.idle": "2022-04-29T03:16:09.517120Z",
     "shell.execute_reply": "2022-04-29T03:16:09.516464Z"
    },
    "papermill": {
     "duration": 0.048679,
     "end_time": "2022-04-29T03:16:09.519620",
     "exception": false,
     "start_time": "2022-04-29T03:16:09.470941",
     "status": "completed"
    },
    "tags": []
   },
   "outputs": [
    {
     "name": "stdout",
     "output_type": "stream",
     "text": [
      "MAE for Linear Regression: 0.7390617347722191\n",
      "MAE for logistic Regression: 0.6201212121212121\n",
      "MAE for Random Forest Classifier: 0.022333333333333334\n",
      "MAE for Decsion Tree: 0.036454545454545455\n",
      "MAE for Naive Bayes: 0.603030303030303\n"
     ]
    }
   ],
   "source": [
    "print(\"MAE for Linear Regression: \" + str(mean_absolute_error(y_test, y_pred0)))\n",
    "print(\"MAE for logistic Regression: \" + str(mean_absolute_error(y_test, y_pred1)))\n",
    "print(\"MAE for Random Forest Classifier: \" + str(mean_absolute_error(y_test, y_pred2)))\n",
    "print(\"MAE for Decsion Tree: \" + str(mean_absolute_error(y_test, y_pred3)))\n",
    "print(\"MAE for Naive Bayes: \" + str(mean_absolute_error(y_test, y_pred4)))"
   ]
  },
  {
   "cell_type": "code",
   "execution_count": 21,
   "id": "a1fe2e4e",
   "metadata": {
    "execution": {
     "iopub.execute_input": "2022-04-29T03:16:09.595955Z",
     "iopub.status.busy": "2022-04-29T03:16:09.595345Z",
     "iopub.status.idle": "2022-04-29T03:16:09.600852Z",
     "shell.execute_reply": "2022-04-29T03:16:09.599904Z"
    },
    "papermill": {
     "duration": 0.045023,
     "end_time": "2022-04-29T03:16:09.602863",
     "exception": false,
     "start_time": "2022-04-29T03:16:09.557840",
     "status": "completed"
    },
    "tags": []
   },
   "outputs": [
    {
     "data": {
      "text/plain": [
       "array([0, 2, 2, ..., 0, 2, 0])"
      ]
     },
     "execution_count": 21,
     "metadata": {},
     "output_type": "execute_result"
    }
   ],
   "source": [
    "y_pred2"
   ]
  },
  {
   "cell_type": "code",
   "execution_count": null,
   "id": "bb985acf",
   "metadata": {
    "papermill": {
     "duration": 0.037495,
     "end_time": "2022-04-29T03:16:09.676973",
     "exception": false,
     "start_time": "2022-04-29T03:16:09.639478",
     "status": "completed"
    },
    "tags": []
   },
   "outputs": [],
   "source": []
  },
  {
   "cell_type": "code",
   "execution_count": null,
   "id": "14ea46a9",
   "metadata": {
    "papermill": {
     "duration": 0.040134,
     "end_time": "2022-04-29T03:16:09.754839",
     "exception": false,
     "start_time": "2022-04-29T03:16:09.714705",
     "status": "completed"
    },
    "tags": []
   },
   "outputs": [],
   "source": []
  },
  {
   "cell_type": "code",
   "execution_count": null,
   "id": "cdda3165",
   "metadata": {
    "papermill": {
     "duration": 0.036216,
     "end_time": "2022-04-29T03:16:09.828231",
     "exception": false,
     "start_time": "2022-04-29T03:16:09.792015",
     "status": "completed"
    },
    "tags": []
   },
   "outputs": [],
   "source": []
  },
  {
   "cell_type": "code",
   "execution_count": null,
   "id": "47f260fd",
   "metadata": {
    "papermill": {
     "duration": 0.037661,
     "end_time": "2022-04-29T03:16:09.902456",
     "exception": false,
     "start_time": "2022-04-29T03:16:09.864795",
     "status": "completed"
    },
    "tags": []
   },
   "outputs": [],
   "source": []
  },
  {
   "cell_type": "code",
   "execution_count": null,
   "id": "d70eae29",
   "metadata": {
    "papermill": {
     "duration": 0.037709,
     "end_time": "2022-04-29T03:16:09.978675",
     "exception": false,
     "start_time": "2022-04-29T03:16:09.940966",
     "status": "completed"
    },
    "tags": []
   },
   "outputs": [],
   "source": []
  },
  {
   "cell_type": "code",
   "execution_count": null,
   "id": "a6d378eb",
   "metadata": {
    "papermill": {
     "duration": 0.036506,
     "end_time": "2022-04-29T03:16:10.052653",
     "exception": false,
     "start_time": "2022-04-29T03:16:10.016147",
     "status": "completed"
    },
    "tags": []
   },
   "outputs": [],
   "source": []
  },
  {
   "cell_type": "code",
   "execution_count": null,
   "id": "fea381b1",
   "metadata": {
    "papermill": {
     "duration": 0.036539,
     "end_time": "2022-04-29T03:16:10.126394",
     "exception": false,
     "start_time": "2022-04-29T03:16:10.089855",
     "status": "completed"
    },
    "tags": []
   },
   "outputs": [],
   "source": []
  }
 ],
 "metadata": {
  "kernelspec": {
   "display_name": "Python 3",
   "language": "python",
   "name": "python3"
  },
  "language_info": {
   "codemirror_mode": {
    "name": "ipython",
    "version": 3
   },
   "file_extension": ".py",
   "mimetype": "text/x-python",
   "name": "python",
   "nbconvert_exporter": "python",
   "pygments_lexer": "ipython3",
   "version": "3.7.12"
  },
  "papermill": {
   "default_parameters": {},
   "duration": 45.724355,
   "end_time": "2022-04-29T03:16:11.085689",
   "environment_variables": {},
   "exception": null,
   "input_path": "__notebook__.ipynb",
   "output_path": "__notebook__.ipynb",
   "parameters": {},
   "start_time": "2022-04-29T03:15:25.361334",
   "version": "2.3.4"
  }
 },
 "nbformat": 4,
 "nbformat_minor": 5
}
